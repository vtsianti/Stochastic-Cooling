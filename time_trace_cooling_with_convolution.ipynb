version https://git-lfs.github.com/spec/v1
oid sha256:17fbe18808ab5ee03ab2f97b09440b655832655b9496415997ec4910a6236bd4
size 39963
