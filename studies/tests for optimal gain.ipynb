version https://git-lfs.github.com/spec/v1
oid sha256:83fbf9a9626b6c31ef61d6602b51d281226748fd0a77608e55b569020ef786d2
size 2836280
