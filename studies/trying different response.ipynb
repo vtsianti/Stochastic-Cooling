version https://git-lfs.github.com/spec/v1
oid sha256:40e14d16f74b982536d9c09d57c9adca3524ee4823bd4154fe6a12717e4b6a84
size 724021
