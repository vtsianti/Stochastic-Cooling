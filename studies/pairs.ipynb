version https://git-lfs.github.com/spec/v1
oid sha256:e8b5e6f4b030d2251611f539f3d6ce34c5fbb1429a0032a0f5dbfa1b6caf147b
size 173172
