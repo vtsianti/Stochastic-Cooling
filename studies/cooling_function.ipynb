version https://git-lfs.github.com/spec/v1
oid sha256:80fc5b976234e60f97a195e510c324458118bcba5c681ba5149746ab04852ef6
size 23420
