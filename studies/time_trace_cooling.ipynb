version https://git-lfs.github.com/spec/v1
oid sha256:5da299361ab153863d240ef84168f0775f39c10a8e3b8bed47c4d30251cc1067
size 1339950
