version https://git-lfs.github.com/spec/v1
oid sha256:cd530e0295da6395bb64c69d07a74057d83a286782f8d5f388d7bf1dcf1865f7
size 512205
