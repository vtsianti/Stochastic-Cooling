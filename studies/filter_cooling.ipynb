version https://git-lfs.github.com/spec/v1
oid sha256:14729ed88c23332e1f782129ec1f3beabcd6ba808f1f94dce334f32efb37fddf
size 95965
