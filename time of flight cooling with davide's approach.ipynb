version https://git-lfs.github.com/spec/v1
oid sha256:8e17a2227669e5332fe62841e09cf4a03be0ca5b99f7aaf61a8b80b11d17492e
size 782509
